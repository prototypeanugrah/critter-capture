{
 "cells": [
  {
   "cell_type": "code",
   "execution_count": 23,
   "id": "75035fef",
   "metadata": {},
   "outputs": [],
   "source": [
    "import matplotlib.pyplot as plt\n",
    "import pandas as pd"
   ]
  },
  {
   "cell_type": "code",
   "execution_count": 24,
   "id": "9390cc76",
   "metadata": {},
   "outputs": [
    {
     "name": "stdout",
     "output_type": "stream",
     "text": [
      "Shape of the dataset: (122549, 14)\n"
     ]
    },
    {
     "data": {
      "text/html": [
       "<div>\n",
       "<style scoped>\n",
       "    .dataframe tbody tr th:only-of-type {\n",
       "        vertical-align: middle;\n",
       "    }\n",
       "\n",
       "    .dataframe tbody tr th {\n",
       "        vertical-align: top;\n",
       "    }\n",
       "\n",
       "    .dataframe thead th {\n",
       "        text-align: right;\n",
       "    }\n",
       "</style>\n",
       "<table border=\"1\" class=\"dataframe\">\n",
       "  <thead>\n",
       "    <tr style=\"text-align: right;\">\n",
       "      <th></th>\n",
       "      <th>id</th>\n",
       "      <th>uuid</th>\n",
       "      <th>user_id</th>\n",
       "      <th>created_at</th>\n",
       "      <th>url</th>\n",
       "      <th>image_url</th>\n",
       "      <th>description</th>\n",
       "      <th>oauth_application_id</th>\n",
       "      <th>place_guess</th>\n",
       "      <th>species_guess</th>\n",
       "      <th>scientific_name</th>\n",
       "      <th>common_name</th>\n",
       "      <th>iconic_taxon_name</th>\n",
       "      <th>taxon_id</th>\n",
       "    </tr>\n",
       "  </thead>\n",
       "  <tbody>\n",
       "    <tr>\n",
       "      <th>0</th>\n",
       "      <td>45574</td>\n",
       "      <td>4638cfa1-79cb-4f38-8898-a5932ce39a29</td>\n",
       "      <td>1000</td>\n",
       "      <td>2012-01-02 21:44:34 +0100</td>\n",
       "      <td>http://www.inaturalist.org/observations/45574</td>\n",
       "      <td>https://inaturalist-open-data.s3.amazonaws.com...</td>\n",
       "      <td>NaN</td>\n",
       "      <td>NaN</td>\n",
       "      <td>Lake Michigan, Chicago, Illinois</td>\n",
       "      <td>American Coot</td>\n",
       "      <td>Fulica americana</td>\n",
       "      <td>American Coot</td>\n",
       "      <td>Aves</td>\n",
       "      <td>473</td>\n",
       "    </tr>\n",
       "    <tr>\n",
       "      <th>1</th>\n",
       "      <td>45575</td>\n",
       "      <td>9f914e0d-d3ed-4310-b1b3-8b5338b5aee6</td>\n",
       "      <td>1000</td>\n",
       "      <td>2012-01-02 21:44:35 +0100</td>\n",
       "      <td>http://www.inaturalist.org/observations/45575</td>\n",
       "      <td>https://inaturalist-open-data.s3.amazonaws.com...</td>\n",
       "      <td>NaN</td>\n",
       "      <td>NaN</td>\n",
       "      <td>Lake Michigan, Chicago, Illinois</td>\n",
       "      <td>Red-breasted Merganser</td>\n",
       "      <td>Mergus serrator</td>\n",
       "      <td>Red-breasted Merganser</td>\n",
       "      <td>Aves</td>\n",
       "      <td>6996</td>\n",
       "    </tr>\n",
       "    <tr>\n",
       "      <th>2</th>\n",
       "      <td>45576</td>\n",
       "      <td>d95d10c9-0d6c-42a0-8e93-cfc6b18468ac</td>\n",
       "      <td>1000</td>\n",
       "      <td>2012-01-02 21:44:35 +0100</td>\n",
       "      <td>http://www.inaturalist.org/observations/45576</td>\n",
       "      <td>https://inaturalist-open-data.s3.amazonaws.com...</td>\n",
       "      <td>NaN</td>\n",
       "      <td>NaN</td>\n",
       "      <td>Lake Michigan, Chicago, Illinois</td>\n",
       "      <td>Red-breasted Merganser</td>\n",
       "      <td>Mergus serrator</td>\n",
       "      <td>Red-breasted Merganser</td>\n",
       "      <td>Aves</td>\n",
       "      <td>6996</td>\n",
       "    </tr>\n",
       "    <tr>\n",
       "      <th>3</th>\n",
       "      <td>45578</td>\n",
       "      <td>cdd1349e-d74e-4d45-a869-d57ff2cce3aa</td>\n",
       "      <td>1000</td>\n",
       "      <td>2012-01-02 21:44:37 +0100</td>\n",
       "      <td>http://www.inaturalist.org/observations/45578</td>\n",
       "      <td>https://inaturalist-open-data.s3.amazonaws.com...</td>\n",
       "      <td>NaN</td>\n",
       "      <td>NaN</td>\n",
       "      <td>Lake Michigan, Chicago, Illinois</td>\n",
       "      <td>Canada Goose</td>\n",
       "      <td>Branta canadensis</td>\n",
       "      <td>Canada Goose</td>\n",
       "      <td>Aves</td>\n",
       "      <td>7089</td>\n",
       "    </tr>\n",
       "    <tr>\n",
       "      <th>4</th>\n",
       "      <td>45579</td>\n",
       "      <td>acca2776-190a-42f2-817e-264e057e5188</td>\n",
       "      <td>1000</td>\n",
       "      <td>2012-01-02 21:44:37 +0100</td>\n",
       "      <td>http://www.inaturalist.org/observations/45579</td>\n",
       "      <td>https://inaturalist-open-data.s3.amazonaws.com...</td>\n",
       "      <td>NaN</td>\n",
       "      <td>NaN</td>\n",
       "      <td>Lake Michigan, Chicago, Illinois</td>\n",
       "      <td>Red-breasted Merganser</td>\n",
       "      <td>Mergus serrator</td>\n",
       "      <td>Red-breasted Merganser</td>\n",
       "      <td>Aves</td>\n",
       "      <td>6996</td>\n",
       "    </tr>\n",
       "  </tbody>\n",
       "</table>\n",
       "</div>"
      ],
      "text/plain": [
       "      id                                  uuid  user_id  \\\n",
       "0  45574  4638cfa1-79cb-4f38-8898-a5932ce39a29     1000   \n",
       "1  45575  9f914e0d-d3ed-4310-b1b3-8b5338b5aee6     1000   \n",
       "2  45576  d95d10c9-0d6c-42a0-8e93-cfc6b18468ac     1000   \n",
       "3  45578  cdd1349e-d74e-4d45-a869-d57ff2cce3aa     1000   \n",
       "4  45579  acca2776-190a-42f2-817e-264e057e5188     1000   \n",
       "\n",
       "                  created_at                                            url  \\\n",
       "0  2012-01-02 21:44:34 +0100  http://www.inaturalist.org/observations/45574   \n",
       "1  2012-01-02 21:44:35 +0100  http://www.inaturalist.org/observations/45575   \n",
       "2  2012-01-02 21:44:35 +0100  http://www.inaturalist.org/observations/45576   \n",
       "3  2012-01-02 21:44:37 +0100  http://www.inaturalist.org/observations/45578   \n",
       "4  2012-01-02 21:44:37 +0100  http://www.inaturalist.org/observations/45579   \n",
       "\n",
       "                                           image_url description  \\\n",
       "0  https://inaturalist-open-data.s3.amazonaws.com...         NaN   \n",
       "1  https://inaturalist-open-data.s3.amazonaws.com...         NaN   \n",
       "2  https://inaturalist-open-data.s3.amazonaws.com...         NaN   \n",
       "3  https://inaturalist-open-data.s3.amazonaws.com...         NaN   \n",
       "4  https://inaturalist-open-data.s3.amazonaws.com...         NaN   \n",
       "\n",
       "   oauth_application_id                       place_guess  \\\n",
       "0                   NaN  Lake Michigan, Chicago, Illinois   \n",
       "1                   NaN  Lake Michigan, Chicago, Illinois   \n",
       "2                   NaN  Lake Michigan, Chicago, Illinois   \n",
       "3                   NaN  Lake Michigan, Chicago, Illinois   \n",
       "4                   NaN  Lake Michigan, Chicago, Illinois   \n",
       "\n",
       "            species_guess    scientific_name             common_name  \\\n",
       "0           American Coot   Fulica americana           American Coot   \n",
       "1  Red-breasted Merganser    Mergus serrator  Red-breasted Merganser   \n",
       "2  Red-breasted Merganser    Mergus serrator  Red-breasted Merganser   \n",
       "3            Canada Goose  Branta canadensis            Canada Goose   \n",
       "4  Red-breasted Merganser    Mergus serrator  Red-breasted Merganser   \n",
       "\n",
       "  iconic_taxon_name  taxon_id  \n",
       "0              Aves       473  \n",
       "1              Aves      6996  \n",
       "2              Aves      6996  \n",
       "3              Aves      7089  \n",
       "4              Aves      6996  "
      ]
     },
     "execution_count": 24,
     "metadata": {},
     "output_type": "execute_result"
    }
   ],
   "source": [
    "inat_df = pd.read_csv(\"../observations-632017.csv/observations-632017.csv\")\n",
    "print(f\"Shape of the dataset: {inat_df.shape}\")\n",
    "inat_df.head()\n"
   ]
  },
  {
   "cell_type": "code",
   "execution_count": null,
   "id": "205c2cac",
   "metadata": {},
   "outputs": [
    {
     "data": {
      "text/html": [
       "<div>\n",
       "<style scoped>\n",
       "    .dataframe tbody tr th:only-of-type {\n",
       "        vertical-align: middle;\n",
       "    }\n",
       "\n",
       "    .dataframe tbody tr th {\n",
       "        vertical-align: top;\n",
       "    }\n",
       "\n",
       "    .dataframe thead th {\n",
       "        text-align: right;\n",
       "    }\n",
       "</style>\n",
       "<table border=\"1\" class=\"dataframe\">\n",
       "  <thead>\n",
       "    <tr style=\"text-align: right;\">\n",
       "      <th></th>\n",
       "      <th>uuid</th>\n",
       "      <th>url</th>\n",
       "      <th>taxon_id</th>\n",
       "      <th>common_name</th>\n",
       "      <th>scientific_name</th>\n",
       "      <th>iconic_taxon_name</th>\n",
       "    </tr>\n",
       "  </thead>\n",
       "  <tbody>\n",
       "    <tr>\n",
       "      <th>0</th>\n",
       "      <td>4638cfa1-79cb-4f38-8898-a5932ce39a29</td>\n",
       "      <td>http://www.inaturalist.org/observations/45574</td>\n",
       "      <td>473</td>\n",
       "      <td>American Coot</td>\n",
       "      <td>Fulica americana</td>\n",
       "      <td>Aves</td>\n",
       "    </tr>\n",
       "    <tr>\n",
       "      <th>1</th>\n",
       "      <td>9f914e0d-d3ed-4310-b1b3-8b5338b5aee6</td>\n",
       "      <td>http://www.inaturalist.org/observations/45575</td>\n",
       "      <td>6996</td>\n",
       "      <td>Red-breasted Merganser</td>\n",
       "      <td>Mergus serrator</td>\n",
       "      <td>Aves</td>\n",
       "    </tr>\n",
       "    <tr>\n",
       "      <th>2</th>\n",
       "      <td>d95d10c9-0d6c-42a0-8e93-cfc6b18468ac</td>\n",
       "      <td>http://www.inaturalist.org/observations/45576</td>\n",
       "      <td>6996</td>\n",
       "      <td>Red-breasted Merganser</td>\n",
       "      <td>Mergus serrator</td>\n",
       "      <td>Aves</td>\n",
       "    </tr>\n",
       "    <tr>\n",
       "      <th>3</th>\n",
       "      <td>cdd1349e-d74e-4d45-a869-d57ff2cce3aa</td>\n",
       "      <td>http://www.inaturalist.org/observations/45578</td>\n",
       "      <td>7089</td>\n",
       "      <td>Canada Goose</td>\n",
       "      <td>Branta canadensis</td>\n",
       "      <td>Aves</td>\n",
       "    </tr>\n",
       "    <tr>\n",
       "      <th>4</th>\n",
       "      <td>acca2776-190a-42f2-817e-264e057e5188</td>\n",
       "      <td>http://www.inaturalist.org/observations/45579</td>\n",
       "      <td>6996</td>\n",
       "      <td>Red-breasted Merganser</td>\n",
       "      <td>Mergus serrator</td>\n",
       "      <td>Aves</td>\n",
       "    </tr>\n",
       "  </tbody>\n",
       "</table>\n",
       "</div>"
      ],
      "text/plain": [
       "                                   uuid  \\\n",
       "0  4638cfa1-79cb-4f38-8898-a5932ce39a29   \n",
       "1  9f914e0d-d3ed-4310-b1b3-8b5338b5aee6   \n",
       "2  d95d10c9-0d6c-42a0-8e93-cfc6b18468ac   \n",
       "3  cdd1349e-d74e-4d45-a869-d57ff2cce3aa   \n",
       "4  acca2776-190a-42f2-817e-264e057e5188   \n",
       "\n",
       "                                             url  taxon_id  \\\n",
       "0  http://www.inaturalist.org/observations/45574       473   \n",
       "1  http://www.inaturalist.org/observations/45575      6996   \n",
       "2  http://www.inaturalist.org/observations/45576      6996   \n",
       "3  http://www.inaturalist.org/observations/45578      7089   \n",
       "4  http://www.inaturalist.org/observations/45579      6996   \n",
       "\n",
       "              common_name    scientific_name iconic_taxon_name  \n",
       "0           American Coot   Fulica americana              Aves  \n",
       "1  Red-breasted Merganser    Mergus serrator              Aves  \n",
       "2  Red-breasted Merganser    Mergus serrator              Aves  \n",
       "3            Canada Goose  Branta canadensis              Aves  \n",
       "4  Red-breasted Merganser    Mergus serrator              Aves  "
      ]
     },
     "execution_count": 25,
     "metadata": {},
     "output_type": "execute_result"
    }
   ],
   "source": [
    "inat_df = inat_df[\n",
    "    [\"uuid\", \"url\", \"taxon_id\", \"common_name\", \"scientific_name\", \"iconic_taxon_name\"]\n",
    "]\n",
    "inat_df.head()"
   ]
  },
  {
   "cell_type": "code",
   "execution_count": 26,
   "id": "4aaf285d",
   "metadata": {},
   "outputs": [
    {
     "data": {
      "text/plain": [
       "iconic_taxon_name\n",
       "Aves        107734\n",
       "Mammalia     14815\n",
       "Name: count, dtype: int64"
      ]
     },
     "execution_count": 26,
     "metadata": {},
     "output_type": "execute_result"
    }
   ],
   "source": [
    "# Count of iconic taxon names\n",
    "inat_df[\"iconic_taxon_name\"].value_counts()"
   ]
  },
  {
   "cell_type": "code",
   "execution_count": null,
   "id": "cacfb2eb",
   "metadata": {},
   "outputs": [
    {
     "data": {
      "text/plain": [
       "906"
      ]
     },
     "execution_count": 9,
     "metadata": {},
     "output_type": "execute_result"
    }
   ],
   "source": [
    "# num class labels\n",
    "len(inat_df[\"taxon_id\"].unique())"
   ]
  },
  {
   "cell_type": "code",
   "execution_count": 27,
   "id": "a3b4fa08",
   "metadata": {},
   "outputs": [],
   "source": [
    "aves_df = inat_df[inat_df[\"iconic_taxon_name\"] == \"Aves\"]\n",
    "mammals_df = inat_df[inat_df[\"iconic_taxon_name\"] == \"Mammalia\"]"
   ]
  },
  {
   "cell_type": "code",
   "execution_count": null,
   "id": "60dff694",
   "metadata": {},
   "outputs": [
    {
     "name": "stdout",
     "output_type": "stream",
     "text": [
      "Number of classes in Aves: 670\n",
      "Some common names in Aves: common_name\n",
      "Canada Goose                 3858\n",
      "American Robin               3829\n",
      "Red-winged Blackbird         3768\n",
      "Mallard                      3462\n",
      "House Sparrow                3299\n",
      "Northern Cardinal            2932\n",
      "Ring-billed Gull             2322\n",
      "Black-crowned Night Heron    2239\n",
      "Great Blue Heron             2053\n",
      "Feral Pigeon                 2013\n",
      "Name: count, dtype: int64\n",
      "--------------------------------\n",
      "Number of classes in Mammals: 236\n",
      "Some common names in Mammals: common_name\n",
      "Eastern Gray Squirrel    3962\n",
      "Eastern Cottontail       2235\n",
      "White-tailed Deer        1450\n",
      "Eastern Chipmunk          878\n",
      "Common Raccoon            719\n",
      "Domestic Cat              546\n",
      "Coyote                    509\n",
      "Brown Rat                 476\n",
      "Human                     472\n",
      "Virginia Opossum          391\n",
      "Name: count, dtype: int64\n"
     ]
    }
   ],
   "source": [
    "print(f\"Number of classes in Aves: {len(aves_df['taxon_id'].unique())}\")\n",
    "print(f\"Some common names in Aves: {aves_df['common_name'].value_counts().head(10)}\")\n",
    "print(\"--------------------------------\")\n",
    "print(f\"Number of classes in Mammals: {len(mammals_df['taxon_id'].unique())}\")\n",
    "print(\n",
    "    f\"Some common names in Mammals: {mammals_df['common_name'].value_counts().head(10)}\"\n",
    ")\n"
   ]
  },
  {
   "cell_type": "code",
   "execution_count": null,
   "id": "b2c67aeb",
   "metadata": {},
   "outputs": [
    {
     "data": {
      "image/png": "[encoded data removed]",
      "text/plain": [
       "<Figure size 1000x600 with 1 Axes>"
      ]
     },
     "metadata": {},
     "output_type": "display_data"
    }
   ],
   "source": [
    "# plot the top 10 common names by count\n",
    "plt.figure(figsize=(10, 6))\n",
    "inat_df[\"common_name\"].value_counts().head(10).plot(kind=\"bar\")\n",
    "plt.title(\"Top 10 Common Names by Count\")\n",
    "plt.xlabel(\"Common Name\")\n",
    "plt.ylabel(\"Count\")\n",
    "plt.xticks(rotation=90)\n",
    "plt.tight_layout()\n",
    "# display the number on top of the bar\n",
    "for i, v in enumerate(inat_df[\"common_name\"].value_counts().head(10)):\n",
    "    plt.text(i, v, str(v), ha=\"center\", va=\"bottom\")\n",
    "\n",
    "plt.show()"
   ]
  },
  {
   "cell_type": "code",
   "execution_count": null,
   "id": "abd5ecb4",
   "metadata": {},
   "outputs": [
    {
     "name": "stdout",
     "output_type": "stream",
     "text": [
      "Number of unique labels: 906\n",
      "Some common labels: [    473    6996    7089 1578489  122767    6930    9744   14850   43111\n",
      "   46017]\n"
     ]
    },
    {
     "data": {
      "text/plain": [
       "array([0, 0, 0, ..., 0, 0, 1], shape=(1587552,))"
      ]
     },
     "execution_count": 35,
     "metadata": {},
     "output_type": "execute_result"
    }
   ],
   "source": [
    "import numpy as np\n",
    "\n",
    "labels = np.array(inat_df[\"taxon_id\"].unique())\n",
    "print(f\"Number of unique labels: {len(labels)}\")\n",
    "print(f\"Some common labels: {labels[:10]}\")\n",
    "np.bincount(labels)"
   ]
  }
 ],
 "metadata": {
  "kernelspec": {
   "display_name": ".venv",
   "language": "python",
   "name": "python3"
  },
  "language_info": {
   "codemirror_mode": {
    "name": "ipython",
    "version": 3
   },
   "file_extension": ".py",
   "mimetype": "text/x-python",
   "name": "python",
   "nbconvert_exporter": "python",
   "pygments_lexer": "ipython3",
   "version": "3.12.11"
  }
 },
 "nbformat": 4,
 "nbformat_minor": 5
}
